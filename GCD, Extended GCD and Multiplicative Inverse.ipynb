{
 "cells": [
  {
   "cell_type": "markdown",
   "metadata": {},
   "source": [
    "## Euclid GCD Algorithm\n",
    "\n",
    "GCD(A,B) = GCD(B, A%B)"
   ]
  },
  {
   "cell_type": "code",
   "execution_count": 1,
   "metadata": {},
   "outputs": [
    {
     "name": "stdout",
     "output_type": "stream",
     "text": [
      "5\n",
      "20 15\n"
     ]
    }
   ],
   "source": [
    "## Iterative Process\n",
    "\n",
    "A = 20\n",
    "B = 15\n",
    "\n",
    "def euclidGCD(A,B):\n",
    "    A,B = [A,B] if A>B else [B,A]\n",
    "    while(B!=0):\n",
    "        temp = A%B\n",
    "        A = B\n",
    "        B = temp\n",
    "    print(A)\n",
    "\n",
    "euclidGCD(A,B)\n",
    "print(A,B)"
   ]
  },
  {
   "cell_type": "markdown",
   "metadata": {},
   "source": [
    "## Extended GCD Algorithm\n",
    "\n",
    "Ax+By = GCD(A,B)\n",
    "\n",
    "Bx<sub>1</sub>+(A%B)y<sub>1</sub> = GCD(B, A%B) = GCD(A,B)\n",
    "\n",
    "=> Bx<sub>1</sub>+(A-floor(A/B))y<sub>1</sub> = GCD(B, A%B) = GCD(A,B)\n",
    "\n",
    "=> Bx<sub>1</sub>+(A-floor(A/B)\\*B)y<sub>1</sub> = GCD(B, A%B) = GCD(A,B)\n",
    "\n",
    "=> B(x<sub>1</sub>-floor(A/B)\\*y<sub>1</sub>)+Ay<sub>1</sub> = GCD(B, A%B) = GCD(A,B)\n",
    "\n",
    "x = y<sub>1</sub>\n",
    "\n",
    "y = x<sub>1</sub>-floor(A/B)\\*y<sub>1</sub>"
   ]
  },
  {
   "cell_type": "code",
   "execution_count": 4,
   "metadata": {},
   "outputs": [
    {
     "name": "stdout",
     "output_type": "stream",
     "text": [
      "4 15\n",
      "GCD:  1\n",
      "x & y : 4 -1\n"
     ]
    },
    {
     "data": {
      "text/plain": [
       "[1, 4, -1]"
      ]
     },
     "execution_count": 4,
     "metadata": {},
     "output_type": "execute_result"
    }
   ],
   "source": [
    "def extEuclidGCD(A,B):\n",
    "    Flag = False\n",
    "    if A>B:\n",
    "        flag = True\n",
    "        A,B = [A,B] \n",
    "    abS = [[A,B]]\n",
    "    \n",
    "    while(B!=0):\n",
    "        temp = A%B\n",
    "        A = B\n",
    "        B = temp\n",
    "        abS.append([A,B])\n",
    "        \n",
    "    x = 1\n",
    "    y = 0\n",
    "    \n",
    "    print(\"GCD: \", A)\n",
    "    \n",
    "    abS.pop()\n",
    "    \n",
    "    while(abS):\n",
    "        a,b = abS.pop(-1)\n",
    "        temp = x\n",
    "        x = y\n",
    "        y = temp-(a//b)*y\n",
    "    \n",
    "    print(\"x & y :\", x, y)\n",
    "    \n",
    "    return [A,x,y] if not Flag else [A,y,x]\n",
    "    \n",
    "A = 4\n",
    "B = 15\n",
    "print(A,B)\n",
    "extEuclidGCD(A,B)"
   ]
  },
  {
   "cell_type": "markdown",
   "metadata": {},
   "source": [
    "## Modular Multiplicative Inverse\n",
    "\n",
    "(A\\*B)%M = 1"
   ]
  },
  {
   "cell_type": "code",
   "execution_count": 38,
   "metadata": {},
   "outputs": [
    {
     "name": "stdout",
     "output_type": "stream",
     "text": [
      "GCD:  1\n",
      "x & y : -2 1\n",
      "1 5 1\n"
     ]
    }
   ],
   "source": [
    "## Using Extended Euclid Algorithm\n",
    "\n",
    "A = 3\n",
    "B = 7\n",
    "\n",
    "GCD, x, y = extEuclidGCD(A,B)\n",
    "print(GCD, (x%B+B)%B, y)"
   ]
  },
  {
   "cell_type": "code",
   "execution_count": 44,
   "metadata": {},
   "outputs": [
    {
     "name": "stdout",
     "output_type": "stream",
     "text": [
      "9\n"
     ]
    }
   ],
   "source": [
    "## Using Modular exponentiation\n",
    "\n",
    "def modularExpon(n,x,mod,result):\n",
    "    while(n>0):\n",
    "        if (n%2==1):\n",
    "            result=(result*x)%mod\n",
    "        x=(x*x)%mod\n",
    "        n=n//2\n",
    "    print(result)\n",
    "\n",
    "modularExpon(9,5,11,1)"
   ]
  },
  {
   "cell_type": "markdown",
   "metadata": {},
   "source": [
    "## Sample Problem"
   ]
  },
  {
   "cell_type": "markdown",
   "metadata": {},
   "source": [
    "1. (A<sup>B</sup>/C)%M"
   ]
  },
  {
   "cell_type": "code",
   "execution_count": 46,
   "metadata": {},
   "outputs": [
    {
     "name": "stdout",
     "output_type": "stream",
     "text": [
      "3\n",
      "4\n",
      "2\n"
     ]
    }
   ],
   "source": [
    "def modularExpon(n,x,mod):\n",
    "    result = 1\n",
    "    while(n>0):\n",
    "        if (n%2==1):\n",
    "            result=(result*x)%mod\n",
    "        x=(x*x)%mod\n",
    "        n=n//2\n",
    "    return result\n",
    "\n",
    "A, B, C, M = 2, 3, 4, 5\n",
    "\n",
    "ApowBmodM = modularExpon(B,A,M)\n",
    "\n",
    "CmInvM = modularExpon(M-2,C,M)\n",
    "\n",
    "print(ApowBmodM)\n",
    "print(CmInvM)\n",
    "\n",
    "print((ApowBmodM*CmInvM)%M)"
   ]
  },
  {
   "cell_type": "code",
   "execution_count": null,
   "metadata": {},
   "outputs": [],
   "source": []
  }
 ],
 "metadata": {
  "kernelspec": {
   "display_name": "Python 3",
   "language": "python",
   "name": "python3"
  },
  "language_info": {
   "codemirror_mode": {
    "name": "ipython",
    "version": 3
   },
   "file_extension": ".py",
   "mimetype": "text/x-python",
   "name": "python",
   "nbconvert_exporter": "python",
   "pygments_lexer": "ipython3",
   "version": "3.7.6"
  }
 },
 "nbformat": 4,
 "nbformat_minor": 4
}
