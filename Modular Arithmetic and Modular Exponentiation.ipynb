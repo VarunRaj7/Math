{
 "cells": [
  {
   "cell_type": "markdown",
   "metadata": {},
   "source": [
    "## Modular Arithmetic\n",
    "\n",
    "1. (a+b)%c = (a%c+b%c)%c\n",
    "2. (a\\*b)%c = (a%c\\*b%c)%c\n",
    "3. (a-b)%c = (a%c-b%c+c)%c\n",
    "4. (a/b)%c = (a%c\\*b<sup>-1</sup>%c)%c\n",
    "\n",
    "b<sup>-1</sup> is modular multiplicative inverse of b under c"
   ]
  },
  {
   "cell_type": "markdown",
   "metadata": {},
   "source": [
    "## Modular Exponentiation"
   ]
  },
  {
   "cell_type": "code",
   "execution_count": 12,
   "metadata": {},
   "outputs": [
    {
     "name": "stdout",
     "output_type": "stream",
     "text": [
      "975523612\n",
      "2 107\n"
     ]
    }
   ],
   "source": [
    "## Left-Right Expansion Technique\n",
    "\n",
    "result = 1\n",
    "n = 107\n",
    "x = 2\n",
    "mod = (10**9)+7\n",
    "\n",
    "def modularExpon(n,x,mod,result):\n",
    "    while(n>0):\n",
    "        if (n%2==1):\n",
    "            result=(result*x)%mod\n",
    "        x=(x*x)%mod\n",
    "        n=n//2\n",
    "    print(result)\n",
    "        \n",
    "modularExpon(n,x,mod,result)\n",
    "print(x,n)"
   ]
  },
  {
   "cell_type": "code",
   "execution_count": null,
   "metadata": {},
   "outputs": [],
   "source": []
  }
 ],
 "metadata": {
  "kernelspec": {
   "display_name": "Python 3",
   "language": "python",
   "name": "python3"
  },
  "language_info": {
   "codemirror_mode": {
    "name": "ipython",
    "version": 3
   },
   "file_extension": ".py",
   "mimetype": "text/x-python",
   "name": "python",
   "nbconvert_exporter": "python",
   "pygments_lexer": "ipython3",
   "version": "3.7.6"
  }
 },
 "nbformat": 4,
 "nbformat_minor": 4
}
