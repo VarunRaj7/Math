{
 "cells": [
  {
   "cell_type": "code",
   "execution_count": 15,
   "metadata": {},
   "outputs": [],
   "source": [
    "import random\n",
    "\n",
    "class MillerRabin:\n",
    "    \n",
    "    def modularExp(self,a,n,m):\n",
    "        res = 1\n",
    "        while(n>0):\n",
    "            if n%2==1:\n",
    "                res = (res*a)%m\n",
    "            a=(a*a)%m\n",
    "            n=n//2\n",
    "\n",
    "        return res\n",
    "\n",
    "    def millerTest(self, d, n, r):\n",
    "        \n",
    "        a = random.randint(2,n-2)\n",
    "        \n",
    "        x = self.modularExp(a,d,n)\n",
    "        \n",
    "        if x==1 or x==n-1:\n",
    "            return True\n",
    "        \n",
    "        while(r!=0):\n",
    "            x = (x*x)%n\n",
    "            r-=1\n",
    "            if x==n-1:\n",
    "                return True\n",
    "        \n",
    "        return False\n",
    "    \n",
    "    def isPrime(self, n, k):\n",
    "        \n",
    "        if n in [2,3]:\n",
    "            return True\n",
    "        \n",
    "        if n==1:\n",
    "            return False\n",
    "        \n",
    "        if n%2==0:\n",
    "            return False\n",
    "        \n",
    "        d = n-1\n",
    "        r = 0\n",
    "        \n",
    "        while(d%2==0):\n",
    "            d=d//2\n",
    "            r+=1\n",
    "            \n",
    "        for i in range(k):\n",
    "            if not self.millerTest(d,n,r):\n",
    "                return False\n",
    "        \n",
    "        return True"
   ]
  },
  {
   "cell_type": "code",
   "execution_count": 16,
   "metadata": {},
   "outputs": [
    {
     "data": {
      "text/plain": [
       "False"
      ]
     },
     "execution_count": 16,
     "metadata": {},
     "output_type": "execute_result"
    }
   ],
   "source": [
    "obj = MillerRabin()\n",
    "obj.isPrime(325, 25)"
   ]
  }
 ],
 "metadata": {
  "kernelspec": {
   "display_name": "Python 3",
   "language": "python",
   "name": "python3"
  },
  "language_info": {
   "codemirror_mode": {
    "name": "ipython",
    "version": 3
   },
   "file_extension": ".py",
   "mimetype": "text/x-python",
   "name": "python",
   "nbconvert_exporter": "python",
   "pygments_lexer": "ipython3",
   "version": "3.7.6"
  }
 },
 "nbformat": 4,
 "nbformat_minor": 4
}
