{
 "cells": [
  {
   "cell_type": "markdown",
   "metadata": {},
   "source": [
    "### Fermat's Little Theorem\n",
    "\n",
    "A<sup>n-1</sup> % n = 1 "
   ]
  },
  {
   "cell_type": "code",
   "execution_count": 2,
   "metadata": {},
   "outputs": [],
   "source": [
    "def modularExp(a,n,m):\n",
    "    res = 1\n",
    "    while(n>0):\n",
    "        if n%2==1:\n",
    "            res = (res*a)%m\n",
    "        a=(a*a)%m\n",
    "        n=n//2\n",
    "        \n",
    "    return res"
   ]
  },
  {
   "cell_type": "code",
   "execution_count": 31,
   "metadata": {},
   "outputs": [],
   "source": [
    "def euclidGCD(a,b):\n",
    "    \n",
    "    while(b!=0):\n",
    "        temp = a\n",
    "        a = b\n",
    "        b = temp%b\n",
    "    if a!=1:\n",
    "        return False\n",
    "    \n",
    "    return True"
   ]
  },
  {
   "cell_type": "code",
   "execution_count": 39,
   "metadata": {},
   "outputs": [],
   "source": [
    "import random\n",
    "\n",
    "class FermatsLT:\n",
    "    \n",
    "    def __init__(self, k=None):\n",
    "        self.nk = k\n",
    "    \n",
    "    def isPrime(self, n):\n",
    "        self.nk = min(n, 25)\n",
    "        if n==1:\n",
    "            return False\n",
    "        if n in [2,3]:\n",
    "            return True\n",
    "        \n",
    "        kset = set()\n",
    "        lk = 0\n",
    "        \n",
    "        if self.nk<n:\n",
    "            while(lk!=self.nk):\n",
    "                temp = random.randint(2,n-2)\n",
    "                if temp not in kset:\n",
    "                    lk+=1\n",
    "                    kset.add(temp)\n",
    "        else:\n",
    "            kset = set(range(2,n-1))\n",
    "            \n",
    "        for k in kset:\n",
    "            # print(k, euclidGCD(k,n), modularExp(k,n-1,n))\n",
    "            if euclidGCD(k,n) and modularExp(k,n-1,n)==1:\n",
    "                continue\n",
    "            else:\n",
    "                return False\n",
    "            \n",
    "        return True             "
   ]
  },
  {
   "cell_type": "code",
   "execution_count": 40,
   "metadata": {},
   "outputs": [
    {
     "data": {
      "text/plain": [
       "True"
      ]
     },
     "execution_count": 40,
     "metadata": {},
     "output_type": "execute_result"
    }
   ],
   "source": [
    "obj = FermatsLT()\n",
    "obj.isPrime((10**9)+7)"
   ]
  }
 ],
 "metadata": {
  "kernelspec": {
   "display_name": "Python 3",
   "language": "python",
   "name": "python3"
  },
  "language_info": {
   "codemirror_mode": {
    "name": "ipython",
    "version": 3
   },
   "file_extension": ".py",
   "mimetype": "text/x-python",
   "name": "python",
   "nbconvert_exporter": "python",
   "pygments_lexer": "ipython3",
   "version": "3.7.6"
  }
 },
 "nbformat": 4,
 "nbformat_minor": 4
}
